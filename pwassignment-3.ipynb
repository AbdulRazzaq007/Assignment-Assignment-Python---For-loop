{
 "cells": [
  {
   "cell_type": "code",
   "execution_count": 1,
   "id": "56dc2a33",
   "metadata": {},
   "outputs": [
    {
     "name": "stdout",
     "output_type": "stream",
     "text": [
      "1\n",
      "2\n",
      "3\n",
      "4\n",
      "5\n",
      "6\n",
      "7\n",
      "8\n",
      "9\n",
      "10\n"
     ]
    }
   ],
   "source": [
    "# 1. Write a Python program to print the numbers from 1 to 10 using a `for` loop.\n",
    "\n",
    "for i in range(1,11):\n",
    "    print(i)"
   ]
  },
  {
   "cell_type": "code",
   "execution_count": 2,
   "id": "62677ea9",
   "metadata": {},
   "outputs": [
    {
     "name": "stdout",
     "output_type": "stream",
     "text": [
      "program that calculates the sum of all numbers in a list:  15\n"
     ]
    }
   ],
   "source": [
    "# 2. Create a program that calculates the sum of all numbers in a list using a `for` loop.\n",
    "\n",
    "my_list= [1,2,3,4,5]\n",
    "total = 0\n",
    "for i in my_list:\n",
    "    total += i\n",
    "print(\"program that calculates the sum of all numbers in a list: \",total)"
   ]
  },
  {
   "cell_type": "code",
   "execution_count": 78,
   "id": "3d47579b",
   "metadata": {},
   "outputs": [
    {
     "name": "stdout",
     "output_type": "stream",
     "text": [
      "program to print the character of a string in reversen sllikswp\n"
     ]
    }
   ],
   "source": [
    "# 3. Write a program to print the characters of a string in reverse order using a `for` loop.\n",
    "\n",
    "string = \"pwskills\"\n",
    "for i in string:\n",
    "    n =string[::-1]\n",
    "print(\"program to print the character of a string in reversen\",n)"
   ]
  },
  {
   "cell_type": "code",
   "execution_count": 77,
   "id": "2552d1fd",
   "metadata": {},
   "outputs": [
    {
     "name": "stdout",
     "output_type": "stream",
     "text": [
      "Enter a number to find its factorial: 5\n",
      "Factorial of 5 is: 120\n"
     ]
    }
   ],
   "source": [
    "# 4. Develop a program that finds the factorial of a given number using a `for` loop.\n",
    "\n",
    "def factorial(n):\n",
    "    result = 1\n",
    "    for i in range(1, n + 1):\n",
    "        result *= i\n",
    "    return result\n",
    "\n",
    "number = int(input(\"Enter a number to find its factorial: \"))\n",
    "if number < 0:\n",
    "    print(\"Factorial is not defined for negative numbers.\")\n",
    "else:\n",
    "    print(\"Factorial of\", number, \"is:\", factorial(number))\n"
   ]
  },
  {
   "cell_type": "code",
   "execution_count": 16,
   "id": "e4e59ae3",
   "metadata": {},
   "outputs": [
    {
     "name": "stdout",
     "output_type": "stream",
     "text": [
      "Enter a number to find its multiplication table: 5\n",
      "5 x 1 = 5\n",
      "5 x 2 = 10\n",
      "5 x 3 = 15\n",
      "5 x 4 = 20\n",
      "5 x 5 = 25\n",
      "5 x 6 = 30\n",
      "5 x 7 = 35\n",
      "5 x 8 = 40\n",
      "5 x 9 = 45\n",
      "5 x 10 = 50\n"
     ]
    }
   ],
   "source": [
    "# 5. Create a program to print the multiplication table of a given number using a `for` loop.\n",
    "\n",
    "def multiplication_table(n):\n",
    "    for i in range(1, 11):  \n",
    "        result = n * i\n",
    "        print(n, 'x', i, '=', result)\n",
    "\n",
    "num = int(input(\"Enter a number to find its multiplication table: \"))\n",
    "multiplication_table(num)\n"
   ]
  },
  {
   "cell_type": "code",
   "execution_count": 79,
   "id": "b8ccbace",
   "metadata": {},
   "outputs": [
    {
     "name": "stdout",
     "output_type": "stream",
     "text": [
      "even numbers list:  [2, 4, 6, 8, 10]\n",
      "odd numbers list:  [1, 3, 5, 7, 9]\n"
     ]
    }
   ],
   "source": [
    "# 6. Write a program that counts the number of even and odd numbers in a list using a `for` loop.\n",
    "my_list = [1,2,3,4,5,6,7,8,9,10]\n",
    "even_number=[]\n",
    "odd_number =[]\n",
    "for i in my_list:\n",
    "    if i%2 ==0:\n",
    "        even_number.append(i)\n",
    "    else:\n",
    "        odd_number.append(i)\n",
    "        \n",
    "print(\"even numbers list: \",even_number)\n",
    "print(\"odd numbers list: \",odd_number)"
   ]
  },
  {
   "cell_type": "code",
   "execution_count": 80,
   "id": "a00548bf",
   "metadata": {},
   "outputs": [
    {
     "name": "stdout",
     "output_type": "stream",
     "text": [
      "Squares of numbers from 1 to 5: [1, 4, 9, 16, 25]\n"
     ]
    }
   ],
   "source": [
    "# 7. Develop a program that prints the squares of numbers from 1 to 5 using a `for` loop.\n",
    "\n",
    "def sqr_number(n):\n",
    "    squares = []  \n",
    "    for i in range(1, n + 1):\n",
    "        result = i ** 2\n",
    "        squares.append(result) \n",
    "    return squares\n",
    "\n",
    "input_num = 5  \n",
    "final_num = sqr_number(input_num)\n",
    "print(\"Squares of numbers from 1 to 5:\", final_num)\n"
   ]
  },
  {
   "cell_type": "code",
   "execution_count": 81,
   "id": "42d2ded6",
   "metadata": {},
   "outputs": [
    {
     "name": "stdout",
     "output_type": "stream",
     "text": [
      "length of string without using the len() function:  19\n"
     ]
    }
   ],
   "source": [
    "# 8. Create a program to find the length of a string without using the `len()` function.\n",
    "string = \"pwskillsdatascience\"\n",
    "count = 0\n",
    "for i in string:\n",
    "    count +=1\n",
    "\n",
    "    \n",
    "print(\"length of string without using the len() function: \",count)"
   ]
  },
  {
   "cell_type": "code",
   "execution_count": 82,
   "id": "7f9710a0",
   "metadata": {},
   "outputs": [
    {
     "name": "stdout",
     "output_type": "stream",
     "text": [
      "Average of a list of numbers using a for loop: 3.0\n"
     ]
    }
   ],
   "source": [
    "# 9. Write a program that calculates the average of a list of numbers using a `for` loop.\n",
    "\n",
    "def avg_list(my_list):\n",
    "    sum_num = 0\n",
    "    for num in my_list:\n",
    "        sum_num += num  \n",
    "    len_list = len(my_list) \n",
    "    avg = sum_num / len_list  \n",
    "    return avg\n",
    "\n",
    "my_list = [1, 2, 3, 4, 5]\n",
    "result = avg_list(my_list)\n",
    "print(\"Average of a list of numbers using a for loop:\", result)\n"
   ]
  },
  {
   "cell_type": "code",
   "execution_count": 83,
   "id": "ebfcecce",
   "metadata": {},
   "outputs": [
    {
     "name": "stdout",
     "output_type": "stream",
     "text": [
      "Enter the number of Fibonacci numbers to print: 5\n",
      "First 5 Fibonacci numbers: [0, 1, 1, 2, 3]\n"
     ]
    }
   ],
   "source": [
    "# 10. Develop a program that prints the first `n` Fibonacci numbers using a `for` loop.\n",
    "def fibonacci(n):\n",
    "    fib_sequence = [0, 1] \n",
    "    if n <= 0:\n",
    "        return \"Please enter a positive integer for 'n'.\"\n",
    "    elif n == 1:\n",
    "        return [0]\n",
    "    elif n == 2:\n",
    "        return fib_sequence\n",
    "    \n",
    "    for i in range(2, n):\n",
    "        next_fib = fib_sequence[-1] + fib_sequence[-2]  \n",
    "        fib_sequence.append(next_fib) \n",
    "    \n",
    "    return fib_sequence\n",
    "\n",
    "n = int(input(\"Enter the number of Fibonacci numbers to print: \"))\n",
    "fib_numbers = fibonacci(n)\n",
    "print(\"First\", n, \"Fibonacci numbers:\", fib_numbers)\n"
   ]
  },
  {
   "cell_type": "code",
   "execution_count": 84,
   "id": "434eadb8",
   "metadata": {},
   "outputs": [
    {
     "name": "stdout",
     "output_type": "stream",
     "text": [
      "The list does not contain duplicates.\n"
     ]
    }
   ],
   "source": [
    "# 11. Write a program to check if a given list contains any duplicates using a `for` loop.\n",
    "def has_duplicates(my_list):\n",
    "    seen = set() \n",
    "    for item in my_list:\n",
    "        if item in seen:\n",
    "            return True  \n",
    "        seen.add(item)  \n",
    "    return False \n",
    "\n",
    "my_list = [1, 2, 3, 4, 5]\n",
    "result = has_duplicates(my_list)\n",
    "if result:\n",
    "    print(\"The list contains duplicates.\")\n",
    "else:\n",
    "    print(\"The list does not contain duplicates.\")\n"
   ]
  },
  {
   "cell_type": "code",
   "execution_count": 4,
   "id": "5c9df3e9",
   "metadata": {},
   "outputs": [
    {
     "name": "stdout",
     "output_type": "stream",
     "text": [
      "Enter the start of the range: 1\n",
      "Enter the end of the range: 20\n",
      "Prime numbers in the range 1 to 20 are: [2, 3, 5, 7, 11, 13, 17, 19]\n"
     ]
    }
   ],
   "source": [
    "# 12. Create a program that prints the prime numbers in a given range using a `for` loop.\n",
    "def is_prime(num):\n",
    "    if num <= 1:\n",
    "        return False\n",
    "    for i in range(2, int(num ** 0.5) + 1):\n",
    "        if num % i == 0:\n",
    "            return False\n",
    "    return True\n",
    "\n",
    "def prime_numbers_in_range(start, end):\n",
    "    prime_numbers = []\n",
    "    for num in range(start, end + 1):\n",
    "        if is_prime(num):\n",
    "            prime_numbers.append(num)\n",
    "    return prime_numbers\n",
    "\n",
    "start = int(input(\"Enter the start of the range: \"))\n",
    "end = int(input(\"Enter the end of the range: \"))\n",
    "\n",
    "print(\"Prime numbers in the range\", start, \"to\", end, \"are:\", prime_numbers_in_range(start, end))\n"
   ]
  },
  {
   "cell_type": "code",
   "execution_count": 9,
   "id": "53efa2d4",
   "metadata": {},
   "outputs": [
    {
     "name": "stdout",
     "output_type": "stream",
     "text": [
      "Number of vowels in the string: 1\n"
     ]
    }
   ],
   "source": [
    "# 13. Develop a program that counts the number of vowels in a string using a `for` loop.\n",
    "\n",
    "\n",
    "def count_vowels(strings):\n",
    "    vowels = ['a', 'e', 'i', 'o', 'u']\n",
    "    vowel_count = 0\n",
    "    for char in strings:\n",
    "        if char in vowels:\n",
    "            vowel_count += 1\n",
    "    return vowel_count\n",
    "\n",
    "input_str = \"pwskills\"\n",
    "result = count_vowels(input_str)\n",
    "print(\"Number of vowels in the string:\", result)\n"
   ]
  },
  {
   "cell_type": "code",
   "execution_count": 14,
   "id": "5f58386e",
   "metadata": {},
   "outputs": [
    {
     "name": "stdout",
     "output_type": "stream",
     "text": [
      "Maximum element in the 2D list: 5\n"
     ]
    }
   ],
   "source": [
    "# 14. Write a program to find the maximum element in a 2D list using a nested `for` loop.\n",
    "\n",
    "nested_list = [[1, 2, 3], [4, 5]]\n",
    "\n",
    "max_element = nested_list[0][0]  # Initialize max_element with the first element of the nested list\n",
    "\n",
    "for sublist in nested_list:\n",
    "    for item in sublist:\n",
    "        if item > max_element:\n",
    "            max_element = item\n",
    "\n",
    "print(\"Maximum element in the 2D list:\", max_element)\n",
    "\n"
   ]
  },
  {
   "cell_type": "code",
   "execution_count": 15,
   "id": "27b79051",
   "metadata": {},
   "outputs": [
    {
     "name": "stdout",
     "output_type": "stream",
     "text": [
      "Original list: [1, 2, 3, 2, 4, 2, 5]\n",
      "Element to remove: 2\n",
      "List after removing all occurrences of the element: [1, 3, 4, 5]\n"
     ]
    }
   ],
   "source": [
    "# 15. Create a program that removes all occurrences of a specific element from a list using a `for` loop.\n",
    "\n",
    "def remove_element(lst, element):\n",
    "    result = []\n",
    "    for item in lst:\n",
    "        if item != element:\n",
    "            result.append(item)\n",
    "    return result\n",
    "\n",
    "my_list = [1, 2, 3, 2, 4, 2, 5]\n",
    "element_to_remove = 2\n",
    "new_list = remove_element(my_list, element_to_remove)\n",
    "print(\"Original list:\", my_list)\n",
    "print(\"Element to remove:\", element_to_remove)\n",
    "print(\"List after removing all occurrences of the element:\", new_list)\n"
   ]
  },
  {
   "cell_type": "code",
   "execution_count": 23,
   "id": "63517f5e",
   "metadata": {},
   "outputs": [
    {
     "name": "stdout",
     "output_type": "stream",
     "text": [
      "Multiplication table for 1:\n",
      "1 x 1 = 1\n",
      "1 x 2 = 2\n",
      "1 x 3 = 3\n",
      "1 x 4 = 4\n",
      "1 x 5 = 5\n",
      "1 x 6 = 6\n",
      "1 x 7 = 7\n",
      "1 x 8 = 8\n",
      "1 x 9 = 9\n",
      "1 x 10 = 10\n",
      "\n",
      "Multiplication table for 2:\n",
      "2 x 1 = 2\n",
      "2 x 2 = 4\n",
      "2 x 3 = 6\n",
      "2 x 4 = 8\n",
      "2 x 5 = 10\n",
      "2 x 6 = 12\n",
      "2 x 7 = 14\n",
      "2 x 8 = 16\n",
      "2 x 9 = 18\n",
      "2 x 10 = 20\n",
      "\n",
      "Multiplication table for 3:\n",
      "3 x 1 = 3\n",
      "3 x 2 = 6\n",
      "3 x 3 = 9\n",
      "3 x 4 = 12\n",
      "3 x 5 = 15\n",
      "3 x 6 = 18\n",
      "3 x 7 = 21\n",
      "3 x 8 = 24\n",
      "3 x 9 = 27\n",
      "3 x 10 = 30\n",
      "\n",
      "Multiplication table for 4:\n",
      "4 x 1 = 4\n",
      "4 x 2 = 8\n",
      "4 x 3 = 12\n",
      "4 x 4 = 16\n",
      "4 x 5 = 20\n",
      "4 x 6 = 24\n",
      "4 x 7 = 28\n",
      "4 x 8 = 32\n",
      "4 x 9 = 36\n",
      "4 x 10 = 40\n",
      "\n",
      "Multiplication table for 5:\n",
      "5 x 1 = 5\n",
      "5 x 2 = 10\n",
      "5 x 3 = 15\n",
      "5 x 4 = 20\n",
      "5 x 5 = 25\n",
      "5 x 6 = 30\n",
      "5 x 7 = 35\n",
      "5 x 8 = 40\n",
      "5 x 9 = 45\n",
      "5 x 10 = 50\n",
      "\n"
     ]
    }
   ],
   "source": [
    "# 16. Develop a program that generates a multiplication table for numbers from 1 to 5 using a nested `for` loop.\n",
    "\n",
    "def multiplication_table():\n",
    "    for i in range(1, 6):  \n",
    "        print(f\"Multiplication table for {i}:\")\n",
    "        for j in range(1, 11):  \n",
    "            result = i * j\n",
    "            print(f\"{i} x {j} = {result}\")\n",
    "        print()  \n",
    "\n",
    "multiplication_table()\n"
   ]
  },
  {
   "cell_type": "code",
   "execution_count": 24,
   "id": "de8ee028",
   "metadata": {},
   "outputs": [
    {
     "name": "stdout",
     "output_type": "stream",
     "text": [
      "Fahrenheit Temperatures: [32, 68, 86, 104, 122]\n",
      "Celsius Temperatures: [0.0, 20.0, 30.0, 40.0, 50.0]\n"
     ]
    }
   ],
   "source": [
    "# 17. Write a program that converts a list of Fahrenheit temperatures to Celsius using a `for` loop.\n",
    "\n",
    "def fahrenheit_to_celsius(fahrenheit_temperatures):\n",
    "    celsius_temperatures = []\n",
    "    for fahrenheit in fahrenheit_temperatures:\n",
    "        celsius = (fahrenheit - 32) * 5/9\n",
    "        celsius_temperatures.append(celsius)\n",
    "    return celsius_temperatures\n",
    "\n",
    "fahrenheit_temperatures = [32, 68, 86, 104, 122]\n",
    "celsius_temperatures = fahrenheit_to_celsius(fahrenheit_temperatures)\n",
    "\n",
    "print(\"Fahrenheit Temperatures:\", fahrenheit_temperatures)\n",
    "print(\"Celsius Temperatures:\", celsius_temperatures)\n"
   ]
  },
  {
   "cell_type": "code",
   "execution_count": 26,
   "id": "3fd5183f",
   "metadata": {},
   "outputs": [
    {
     "name": "stdout",
     "output_type": "stream",
     "text": [
      "Common elements: [1, 3, 5]\n"
     ]
    }
   ],
   "source": [
    "# 18. Create a program to print the common elements from two lists using a `for` loop.\n",
    "\n",
    "my_list1 = [1, 2, 3, 4, 5]\n",
    "my_list2 = [1, 3, 5, 7, 8]\n",
    "common_list = []\n",
    "\n",
    "for item1 in my_list1:\n",
    "    for item2 in my_list2:\n",
    "        if item1 == item2:\n",
    "            common_list.append(item1)\n",
    "            break  \n",
    "\n",
    "print(\"Common elements:\", common_list)\n"
   ]
  },
  {
   "cell_type": "code",
   "execution_count": 27,
   "id": "3ef78bcd",
   "metadata": {},
   "outputs": [
    {
     "name": "stdout",
     "output_type": "stream",
     "text": [
      "*\n",
      "**\n",
      "***\n",
      "****\n",
      "*****\n"
     ]
    }
   ],
   "source": [
    "# 19. Develop a program that prints the pattern of right-angled triangles using a `for` loop. Use ‘*’ to draw the pattern\n",
    "\n",
    "rows = 5  # Number of rows in the triangle\n",
    "\n",
    "for i in range(1, rows + 1):\n",
    "    print('*' * i)\n"
   ]
  },
  {
   "cell_type": "code",
   "execution_count": 28,
   "id": "82574794",
   "metadata": {},
   "outputs": [
    {
     "name": "stdout",
     "output_type": "stream",
     "text": [
      "Enter the first number: 2\n",
      "Enter the second number: 5\n",
      "The greatest common divisor (GCD) of 2 and 5 is: 1\n"
     ]
    }
   ],
   "source": [
    "# 20. Write a program to find the greatest common divisor (GCD) of two numbers using a `for` loop.\n",
    "\n",
    "def gcd(a, b):\n",
    "    min_num = min(a, b)\n",
    "    gcd = 1\n",
    "    \n",
    "    for i in range(1, min_num + 1):\n",
    "\n",
    "        if a % i == 0 and b % i == 0:\n",
    "            gcd = i\n",
    "    \n",
    "    return gcd\n",
    "\n",
    "num1 = int(input(\"Enter the first number: \"))\n",
    "num2 = int(input(\"Enter the second number: \"))\n",
    "\n",
    "result = gcd(num1, num2)\n",
    "print(\"The greatest common divisor (GCD) of\", num1, \"and\", num2, \"is:\", result)\n"
   ]
  },
  {
   "cell_type": "code",
   "execution_count": 16,
   "id": "9b40b8df",
   "metadata": {},
   "outputs": [
    {
     "name": "stdout",
     "output_type": "stream",
     "text": [
      "sum of digits of numbers in a list using list comprehension:  [2, 3, 4, 5, 6]\n"
     ]
    }
   ],
   "source": [
    "# 21. Create a program that calculates the sum of the digits of numbers in a list using a list comprehension.\n",
    "list1 = [11, 21, 31, 41, 51]\n",
    "my_list = [sum(int(digit) for digit in str(item)) for item in list1]\n",
    "print(\"sum of digits of numbers in a list using list comprehension: \",my_list)\n"
   ]
  },
  {
   "cell_type": "code",
   "execution_count": 13,
   "id": "79149fa9",
   "metadata": {},
   "outputs": [
    {
     "name": "stdout",
     "output_type": "stream",
     "text": [
      "[2, 3, 4, 5, 6]\n"
     ]
    }
   ],
   "source": [
    "# 22. Write a program to find the prime factors of a given number using a `for` loop and list comprehension.\n",
    "\n",
    "def prime_factors(n):\n",
    "    factors = []\n",
    "    while n % 2 == 0:\n",
    "        factors.append(2)\n",
    "        n = n // 2\n",
    "    \n",
    " \n",
    "    for i in range(3, int(n**0.5) + 1, 2):\n",
    "        while n % i == 0:\n",
    "            factors.append(i)\n",
    "            n = n // i\n",
    "\n",
    "    if n > 2:\n",
    "        factors.append(n)\n",
    "    \n",
    "    return factors\n",
    "\n",
    "number = int(input(\"Enter a number: \"))\n",
    "prime_factors_list = [factor for factor in prime_factors(number)]\n",
    "print(\"Prime factors of\", number, \"are:\", prime_factors_list) \n",
    "\n"
   ]
  },
  {
   "cell_type": "code",
   "execution_count": 18,
   "id": "6ed13ad4",
   "metadata": {},
   "outputs": [
    {
     "name": "stdout",
     "output_type": "stream",
     "text": [
      "Original List: [1, 2, 2, 3, 4, 4, 5, 6, 6]\n",
      "Unique Elements List: [1, 2, 3, 4, 5, 6]\n"
     ]
    }
   ],
   "source": [
    "# 23. Develop a program that extracts unique elements from a list and stores them in a new list using a list comprehension.\n",
    "\n",
    "\n",
    "original_list = [1, 2, 2, 3, 4, 4, 5, 6, 6]\n",
    "unique_list = list(set([x for x in original_list]))\n",
    "print(\"Original List:\", original_list)\n",
    "print(\"Unique Elements List:\", unique_list)\n"
   ]
  },
  {
   "cell_type": "code",
   "execution_count": 19,
   "id": "69f25c36",
   "metadata": {},
   "outputs": [
    {
     "name": "stdout",
     "output_type": "stream",
     "text": [
      "Enter the limit: 100\n",
      "Palindromic numbers up to 100 are: [0, 1, 2, 3, 4, 5, 6, 7, 8, 9, 11, 22, 33, 44, 55, 66, 77, 88, 99]\n"
     ]
    }
   ],
   "source": [
    "# 24. Create a program that generates a list of all palindromic numbers up to a specified limit using a list comprehension.\n",
    "\n",
    "def is_palindrome(number):\n",
    "    return str(number) == str(number)[::-1]\n",
    "\n",
    "def palindromic_numbers(limit):\n",
    "    return [number for number in range(limit) if is_palindrome(number)]\n",
    "\n",
    "limit = int(input(\"Enter the limit: \"))\n",
    "palindromic_list = palindromic_numbers(limit)\n",
    "print(\"Palindromic numbers up to\", limit, \"are:\", palindromic_list)\n"
   ]
  },
  {
   "cell_type": "code",
   "execution_count": 34,
   "id": "32db14cc",
   "metadata": {},
   "outputs": [
    {
     "name": "stdout",
     "output_type": "stream",
     "text": [
      "program to flatten a nested list using list comprehension:  [1, 2, 3, 4, 5]\n"
     ]
    }
   ],
   "source": [
    "# 25. Write a program to flatten a nested list using list comprehension.\n",
    "\n",
    "nested_list = [[1, 2, 3], [4, 5]]\n",
    "flattened_list = [item for sublist in nested_list for item in sublist]\n",
    "print(\"program to flatten a nested list using list comprehension: \",flattened_list)"
   ]
  },
  {
   "cell_type": "code",
   "execution_count": 38,
   "id": "1f5fcdf4",
   "metadata": {},
   "outputs": [
    {
     "name": "stdout",
     "output_type": "stream",
     "text": [
      "Even numbers: [2, 6, 8, 10]\n",
      "Odd numbers: [1, 3, 5, 7, 9]\n",
      "Sum of even numbers: 26\n",
      "Sum of odd numbers: 25\n"
     ]
    }
   ],
   "source": [
    "# 26. Develop a program that computes the sum of even and odd numbers in a list separately using list comprehension.\n",
    "my_list = [1, 2, 3, 5, 6, 7, 8, 9, 10]\n",
    "\n",
    "\n",
    "even_numbers = [number for number in my_list if number % 2 == 0]\n",
    "odd_numbers = [number for number in my_list if number % 2 != 0]\n",
    "\n",
    "sum_even = sum(even_numbers)\n",
    "sum_odd = sum(odd_numbers)\n",
    "\n",
    "print(\"Even numbers:\", even_numbers)\n",
    "print(\"Odd numbers:\", odd_numbers)\n",
    "print(\"Sum of even numbers:\", sum_even)\n",
    "print(\"Sum of odd numbers:\", sum_odd)\n"
   ]
  },
  {
   "cell_type": "code",
   "execution_count": 40,
   "id": "4f24186f",
   "metadata": {},
   "outputs": [
    {
     "name": "stdout",
     "output_type": "stream",
     "text": [
      "program that generates list of squares of odd numbers between 1 to 10:  [1, 9, 25, 49, 81]\n"
     ]
    }
   ],
   "source": [
    "# 27. Create a program that generates a list of squares of odd numbers between 1 and 10 using list comprehension.\n",
    "\n",
    "my_list = [1, 2, 3, 5, 6, 7, 8, 9, 10]\n",
    "odd_numbers = [number for number in my_list if number % 2 != 0]\n",
    "square_numbers = [i**2 for i in odd_numbers]\n",
    "print(\"program that generates list of squares of odd numbers between 1 to 10: \",square_numbers)"
   ]
  },
  {
   "cell_type": "code",
   "execution_count": 45,
   "id": "2886c044",
   "metadata": {},
   "outputs": [
    {
     "name": "stdout",
     "output_type": "stream",
     "text": [
      "combines two lists into a dictionary using list comprehension:  {'a': 'pwskills', 'b': 'data', 'c': 'science'}\n"
     ]
    }
   ],
   "source": [
    "# 28. Write a program that combines two lists into a dictionary using list comprehension.\n",
    "\n",
    "list1 = [\"a\",\"b\",\"c\"]\n",
    "list2 = [\"pwskills\",\"data\",\"science\"]\n",
    "my_dict = {key: value for key,value in zip(list1,list2) }\n",
    "print(\"combines two lists into a dictionary using list comprehension: \",my_dict)"
   ]
  },
  {
   "cell_type": "code",
   "execution_count": 47,
   "id": "1c5b9601",
   "metadata": {},
   "outputs": [
    {
     "name": "stdout",
     "output_type": "stream",
     "text": [
      "Enter a string to extracts the vowels: pwskills\n",
      "program that extracts the vowels from a string and stores them in a list:  ['i']\n"
     ]
    }
   ],
   "source": [
    "# 29. Develop a program that extracts the vowels from a string and stores them in a list using list comprehension.\n",
    "\n",
    "vowels = ['a','e','i','o','u']\n",
    "string = input(\"Enter a string to extracts the vowels: \")\n",
    "my_string  = [i for i in string if i in vowels]\n",
    "print(\"program that extracts the vowels from a string and stores them in a list: \",my_string)"
   ]
  },
  {
   "cell_type": "code",
   "execution_count": 49,
   "id": "3a541a8c",
   "metadata": {},
   "outputs": [
    {
     "name": "stdout",
     "output_type": "stream",
     "text": [
      "List with numeric values only: [1, 2, 3]\n"
     ]
    }
   ],
   "source": [
    "# 30. Create a program that removes all non-numeric characters from a list of strings using list comprehension.\n",
    "\n",
    "my_list = [\"pwskills\", \"data\", 1, 2, 3]\n",
    "\n",
    "numeric_list = [item for item in my_list if isinstance(item, (int, float))]\n",
    "print(\"List with numeric values only:\", numeric_list)\n"
   ]
  },
  {
   "cell_type": "code",
   "execution_count": 50,
   "id": "57e7fe7c",
   "metadata": {},
   "outputs": [
    {
     "name": "stdout",
     "output_type": "stream",
     "text": [
      "Enter the limit: 100\n",
      "List of prime numbers up to 100 : [2, 3, 5, 7, 11, 13, 17, 19, 23, 29, 31, 37, 41, 43, 47, 53, 59, 61, 67, 71, 73, 79, 83, 89, 97]\n"
     ]
    }
   ],
   "source": [
    "# 31. Write a program to generate a list of prime numbers using the Sieve of Eratosthenes algorithm and list comprehension\n",
    "\n",
    "def sieve_of_eratosthenes(n):\n",
    "    primes = [True] * (n+1)\n",
    "    primes[0] = primes[1] = False\n",
    "\n",
    "    for i in range(2, int(n**0.5)+1):\n",
    "        if primes[i]:\n",
    "            primes[i*i:n+1:i] = [False] * len(primes[i*i:n+1:i])\n",
    "\n",
    "    return [i for i in range(2, n+1) if primes[i]]\n",
    "\n",
    "limit = int(input(\"Enter the limit: \"))\n",
    "prime_list = sieve_of_eratosthenes(limit)\n",
    "print(\"List of prime numbers up to\", limit, \":\", prime_list)\n"
   ]
  },
  {
   "cell_type": "code",
   "execution_count": 55,
   "id": "ccc0f19b",
   "metadata": {},
   "outputs": [
    {
     "name": "stdout",
     "output_type": "stream",
     "text": [
      "Enter the value of n: 25\n",
      "pythagorean triplets for 25 [(3, 4, 5), (5, 12, 13), (6, 8, 10), (7, 24, 25), (8, 15, 17), (9, 12, 15), (12, 16, 20), (15, 20, 25)]\n"
     ]
    }
   ],
   "source": [
    "# 32. Create a program that generates a list of all Pythagorean triplets up to a specified limit using list comprehension.\n",
    "n = int(input('Enter the value of n: '))\n",
    "print(f\"pythagorean triplets for {n}\",[(a, b, c) for a in range(1, n + 1) for b in range(a, n + 1)\n",
    "       for c in range(b, n + 1) if a**2 + b**2 == c**2])"
   ]
  },
  {
   "cell_type": "code",
   "execution_count": 57,
   "id": "41fab037",
   "metadata": {},
   "outputs": [
    {
     "name": "stdout",
     "output_type": "stream",
     "text": [
      "All possible combinations of list1 and list2 are:  [[1, 'a'], [1, 'b'], [2, 'a'], [2, 'b'], [3, 'a'], [3, 'b'], [4, 'a'], [4, 'b'], [5, 'a'], [5, 'b']]\n"
     ]
    }
   ],
   "source": [
    "# 33. Develop a program that generates a list of all possible combinations of two lists using list comprehension.\n",
    "\n",
    "list1 = [1,2,3,4,5]\n",
    "list2 = [\"a\",\"b\"]\n",
    "res = [[i,j] for i in list1 for j in list2]\n",
    "print(\"All possible combinations of list1 and list2 are: \",res)"
   ]
  },
  {
   "cell_type": "code",
   "execution_count": 58,
   "id": "b60eff9f",
   "metadata": {},
   "outputs": [
    {
     "name": "stdout",
     "output_type": "stream",
     "text": [
      "Mean: 3.2\n",
      "Median: 3.0\n",
      "Mode: 3\n"
     ]
    }
   ],
   "source": [
    "# 34. Write a program that calculates the mean, median, and mode of a list of numbers using list comprehension.\n",
    "\n",
    "from collections import Counter\n",
    "\n",
    "# Define the list of numbers\n",
    "numbers = [3, 1, 2, 5, 3, 4, 3, 2, 4, 5]\n",
    "\n",
    "mean = sum(numbers) / len(numbers)\n",
    "\n",
    "sorted_numbers = sorted(numbers)\n",
    "n = len(sorted_numbers)\n",
    "median = sorted_numbers[n//2] if n % 2 != 0 else (sorted_numbers[n//2 - 1] + sorted_numbers[n//2]) / 2\n",
    "mode = Counter(numbers).most_common(1)[0][0]\n",
    "\n",
    "print(\"Mean:\", mean)\n",
    "print(\"Median:\", median)\n",
    "print(\"Mode:\", mode)\n"
   ]
  },
  {
   "cell_type": "code",
   "execution_count": 60,
   "id": "a0b2400a",
   "metadata": {},
   "outputs": [
    {
     "name": "stdout",
     "output_type": "stream",
     "text": [
      "Enter the number of rows for Pascal's triangle: 5\n",
      "\n",
      "Pascal's Triangle:\n",
      "       1       \n",
      "      1 1      \n",
      "     1 2 1     \n",
      "    1 3 3 1    \n",
      "   1 4 6 4 1   \n"
     ]
    }
   ],
   "source": [
    "# 35. Create a program that generates Pascal's triangle up to a specified number of rows using list comprehension.\n",
    "\n",
    "def generate_pascals_triangle(num_rows):\n",
    "    if num_rows == 0:\n",
    "        return []\n",
    "    elif num_rows == 1:\n",
    "        return [[1]]\n",
    "    else:\n",
    "        triangle = generate_pascals_triangle(num_rows - 1)\n",
    "        prev_row = triangle[-1]\n",
    "        new_row = [1] + [prev_row[i] + prev_row[i+1] for i in range(len(prev_row) - 1)] + [1]\n",
    "        return triangle + [new_row]\n",
    "\n",
    "def print_pascals_triangle(triangle):\n",
    "    for row in triangle:\n",
    "        print(\" \".join(map(str, row)).center(len(triangle[-1]) * 3))\n",
    "\n",
    "num_rows = int(input(\"Enter the number of rows for Pascal's triangle: \"))\n",
    "pascals_triangle = generate_pascals_triangle(num_rows)\n",
    "print(\"\\nPascal's Triangle:\")\n",
    "print_pascals_triangle(pascals_triangle)\n"
   ]
  },
  {
   "cell_type": "code",
   "execution_count": 62,
   "id": "0fd9fa82",
   "metadata": {},
   "outputs": [
    {
     "name": "stdout",
     "output_type": "stream",
     "text": [
      "Factorials: [1, 2, 6, 24, 120]\n",
      "Sum of digits of factorials: [1, 2, 6, 6, 3]\n"
     ]
    }
   ],
   "source": [
    "# 36. Develop a program that calculates the sum of the digits of a factorial of numbers from 1 to 5 using list\n",
    "# comprehension.\n",
    "# Function to calculate factorial\n",
    "def factorial(n):\n",
    "    if n == 0:\n",
    "        return 1\n",
    "    else:\n",
    "        return n * factorial(n - 1)\n",
    "\n",
    "factorials = [factorial(i) for i in range(1, 6)]\n",
    "\n",
    "def sum_of_digits(number):\n",
    "    return sum(int(digit) for digit in str(number))\n",
    "\n",
    "digit_sums = [sum_of_digits(factorial) for factorial in factorials]\n",
    "\n",
    "print(\"Factorials:\", factorials)\n",
    "print(\"Sum of digits of factorials:\", digit_sums)\n"
   ]
  },
  {
   "cell_type": "code",
   "execution_count": 68,
   "id": "b6e02d12",
   "metadata": {},
   "outputs": [
    {
     "name": "stdout",
     "output_type": "stream",
     "text": [
      "Enter a string to find the largest word in the string: pwskills data science\n",
      "Longest word: pwskills\n"
     ]
    }
   ],
   "source": [
    "# 37. Write a program that finds the longest word in a sentence using list comprehension.\n",
    "input_str = input(\"Enter a string to find the largest word in the string: \")\n",
    "words = input_str.split()\n",
    "\n",
    "longest_word = max((word for word in words), key=len)\n",
    "\n",
    "print(\"Longest word:\", longest_word)\n"
   ]
  },
  {
   "cell_type": "code",
   "execution_count": 71,
   "id": "d86a3fd3",
   "metadata": {},
   "outputs": [
    {
     "name": "stdout",
     "output_type": "stream",
     "text": [
      "Filtered list: ['datascience', 'vowelsia']\n"
     ]
    }
   ],
   "source": [
    "# 38. Create a program that filters a list of strings to include only those with more than three vowels using list\n",
    "# comprehension.\n",
    "vowels = ['a', 'e', 'i', 'o', 'u']\n",
    "my_list = [\"pwskills\", \"datascience\", \"vowelsia\", \"pro\"]\n",
    "\n",
    "def count_vowels(s):\n",
    "    return sum(1 for char in s if char.lower() in vowels)\n",
    "\n",
    "filtered_list = [word for word in my_list if count_vowels(word) > 3]\n",
    "\n",
    "print(\"Filtered list:\", filtered_list)\n"
   ]
  },
  {
   "cell_type": "code",
   "execution_count": 74,
   "id": "78d4d839",
   "metadata": {},
   "outputs": [
    {
     "name": "stdout",
     "output_type": "stream",
     "text": [
      "Sum of digits of numbers from 1 to 1000: 13501\n"
     ]
    }
   ],
   "source": [
    "# 39. Develop a program that calculates the sum of the digits of numbers from 1 to 1000 using list\n",
    "# comprehension.\n",
    "\n",
    "def sum_of_digits(n):\n",
    "    return sum(int(digit) for digit in str(n))\n",
    "\n",
    "sum_of_digits_list = [sum_of_digits(i) for i in range(1, 1001)]\n",
    "\n",
    "total_sum = sum(sum_of_digits_list)\n",
    "\n",
    "print(\"Sum of digits of numbers from 1 to 1000:\", total_sum)\n"
   ]
  },
  {
   "cell_type": "code",
   "execution_count": 75,
   "id": "57333ce2",
   "metadata": {},
   "outputs": [
    {
     "name": "stdout",
     "output_type": "stream",
     "text": [
      "Prime palindromic numbers: [2, 3, 5, 7, 11, 101, 131, 151, 181, 191, 313, 353, 373, 383, 727, 757, 787, 797, 919, 929]\n"
     ]
    }
   ],
   "source": [
    "# 40. Write a program that generates a list of prime palindromic numbers using list comprehension.\n",
    "\n",
    "def is_prime(n):\n",
    "    if n <= 1:\n",
    "        return False\n",
    "    elif n <= 3:\n",
    "        return True\n",
    "    elif n % 2 == 0 or n % 3 == 0:\n",
    "        return False\n",
    "    i = 5\n",
    "    while i * i <= n:\n",
    "        if n % i == 0 or n % (i + 2) == 0:\n",
    "            return False\n",
    "        i += 6\n",
    "    return True\n",
    "\n",
    "def is_palindrome(n):\n",
    "    return str(n) == str(n)[::-1]\n",
    "\n",
    "\n",
    "prime_palindromic_numbers = [n for n in range(1, 1000) if is_prime(n) and is_palindrome(n)]\n",
    "\n",
    "print(\"Prime palindromic numbers:\", prime_palindromic_numbers)\n"
   ]
  },
  {
   "cell_type": "code",
   "execution_count": null,
   "id": "b20dcece",
   "metadata": {},
   "outputs": [],
   "source": []
  }
 ],
 "metadata": {
  "kernelspec": {
   "display_name": "Python 3 (ipykernel)",
   "language": "python",
   "name": "python3"
  },
  "language_info": {
   "codemirror_mode": {
    "name": "ipython",
    "version": 3
   },
   "file_extension": ".py",
   "mimetype": "text/x-python",
   "name": "python",
   "nbconvert_exporter": "python",
   "pygments_lexer": "ipython3",
   "version": "3.11.5"
  }
 },
 "nbformat": 4,
 "nbformat_minor": 5
}
